{
  "nbformat": 4,
  "nbformat_minor": 0,
  "metadata": {
    "colab": {
      "provenance": []
    },
    "kernelspec": {
      "name": "python3",
      "display_name": "Python 3"
    },
    "language_info": {
      "name": "python"
    }
  },
  "cells": [
    {
      "cell_type": "code",
      "execution_count": 14,
      "metadata": {
        "colab": {
          "base_uri": "https://localhost:8080/"
        },
        "id": "d6OSQke3QDJq",
        "outputId": "744360e8-a9d1-45ae-f5d4-3847dcf83d3d"
      },
      "outputs": [
        {
          "output_type": "stream",
          "name": "stdout",
          "text": [
            "Sorted Student Ages: [19, 19, 20, 22, 24, 24, 24, 25, 25, 26]\n",
            "minimum age of student = 19 \n",
            "Maximum age os students = 26\n",
            "Adding minimum and maximum ages to the list: [19, 19, 20, 22, 24, 24, 24, 25, 25, 26, 19, 26]\n",
            "Median of the list: 24\n",
            "The average of the elements: 22.75\n",
            "Range of the list : 7\n"
          ]
        }
      ],
      "source": [
        "#Q1\n",
        "studentages=[19,22,19,24,20,25,26,24,25,24]\n",
        "sort_studentages = sorted(studentages)\n",
        "\n",
        "#1.1 sort the given list and find the minimum and maximum age\n",
        "print(\"Sorted Student Ages:\",sort_studentages)\n",
        "print(\"minimum age of student =\",sort_studentages[0],\"\\nMaximum age os students =\",sort_studentages[-1])\n",
        "minimum = sort_studentages[0]\n",
        "maximum = sort_studentages[-1]\n",
        "\n",
        "#1.2 adding minimum and maximum ages to the list\n",
        "sort_studentages.append(minimum)\n",
        "sort_studentages.append(maximum)\n",
        "\n",
        "length = len(sort_studentages)\n",
        "print(\"Adding minimum and maximum ages to the list:\",sort_studentages)\n",
        "\n",
        "#1.3 Find the median of the list\n",
        "if length % 2 == 0 :\n",
        "  median1 = sort_studentages[length//2]\n",
        "  median2 = sort_studentages[length//2-1]\n",
        "  median = (median1+median2)//2\n",
        "  print(\"Median of the list:\",median)\n",
        "else :\n",
        "  median=sort_studentages[length//2]\n",
        "  print(\"Median of the list:\",median)\n",
        "\n",
        "#1.4 Find the average of the list\n",
        "length= len(sort_studentages)\n",
        "sum=0\n",
        "for i in range (0,length,1):\n",
        "  sum=sum+sort_studentages[i]\n",
        "average=sum/length\n",
        "print(\"The average of the elements:\",average)\n",
        "\n",
        "\n",
        "#1.5 Find the range of the student ages\n",
        "Range = sort_studentages[-1]-sort_studentages[0]\n",
        "print(\"Range of the list :\",Range)"
      ]
    },
    {
      "cell_type": "code",
      "source": [
        "# Q2\n",
        "#2.1 Create an empty dictinory called dog\n",
        "dog={}\n",
        "#2.2 Add name, color, breed, legs, age to the dog dictinory\n",
        "dog={\"name\":None,\"color\":None,\"breed\":None,\"legs\":None,\"age\":None}\n",
        "#2.3 create a student dictinory and add first name, last name, gender, age, marital status,skills, country, city and address as keys for the dictionary\n",
        "student ={\n",
        "    \"first_name\":None,\n",
        "    \"last_name\":None,\n",
        "    \"gender\":None,\n",
        "    \"age\":None,\n",
        "    \"marital_status\":None,\n",
        "    \"skills\":None,\n",
        "    \"country\":None,\n",
        "    \"city\":None,\n",
        "    \"address\":None\n",
        "}\n",
        "#2.4 Get the length of the student dictionary\n",
        "print(\"Length of the student dictionary is :\", len(student))\n",
        "\n",
        "student = {\n",
        "    \"first_name\": 'Venkatanaganikhil reddy',\n",
        "    \"last_name\":'Sanikommu',\n",
        "    \"gender\":'Male',\n",
        "    \"age\":'22',\n",
        "    \"marital_status\":'unmarried',\n",
        "    \"skills\":['Positive Thinking','Analytical approach'],\n",
        "    \"country\":'USA',\n",
        "    \"city\":'Leawood',\n",
        "    \"address\":'10711 Juniper Drive'\n",
        "\n",
        "}\n",
        "print(\"DataType :\",type(student['skills']))\n",
        "#2.5 Get the value of skills and check the datatype\n",
        "print(\"Skills are:\",student.get('skills'))\n",
        "#2.6 Modify skills values by adding one or two skills\n",
        "student['skills'].append(\"critical thinking\")\n",
        "print(\"Skills after adding a new skill:\",student.get('skills'))\n",
        "#2.7 Get the dictionary keys as a list\n",
        "print(\"The key values in dictionary :\",student.keys())\n",
        "#2.8 Get the dictionary values as a list\n",
        "print(\"The values in the student dictionary are:\",student.values()) \n",
        "\n"
      ],
      "metadata": {
        "colab": {
          "base_uri": "https://localhost:8080/"
        },
        "id": "glVRHglzmuA7",
        "outputId": "4ed74d2b-f338-4657-9f6e-304ac65f2e8e"
      },
      "execution_count": 18,
      "outputs": [
        {
          "output_type": "stream",
          "name": "stdout",
          "text": [
            "Length of the student dictionary is : 9\n",
            "DataType : <class 'list'>\n",
            "Skills are: ['Positive Thinking', 'Analytical approach']\n",
            "Skills after adding a new skill: ['Positive Thinking', 'Analytical approach', 'critical thinking']\n",
            "The key values in dictionary : dict_keys(['first_name', 'last_name', 'gender', 'age', 'marital_status', 'skills', 'country', 'city', 'address'])\n",
            "The values in the student dictionary are: dict_values(['Venkatanaganikhil reddy', 'Sanikommu', 'Male', '22', 'unmarried', ['Positive Thinking', 'Analytical approach', 'critical thinking'], 'USA', 'Leawood', '10711 Juniper Drive'])\n"
          ]
        }
      ]
    },
    {
      "cell_type": "code",
      "source": [
        "#Q3\n",
        "#3.1 Create a tuple containing names of your sisters and your brothers\n",
        "\n",
        "brothers = (\"Harsha\", \"Amith\",\"Fardeen\",\"likith\",\"Phani\")\n",
        "sisters = (\"Kavya\",\"Soujanya\")\n",
        "\n",
        "#3.2 join brothers and sisters tuples and assign it to siblings\n",
        "\n",
        "siblings=brothers+sisters\n",
        "print(\"After joining both tuples:\",siblings)\n",
        "\n",
        "#3.3 Find the length the tuple(How many siblings do you have?)\n",
        "print(\"No.of siblings :\",len(siblings))\n",
        "\n",
        "#3.4 Modify the siblings tuple and add the name of your father and mother and assign it to family_members\n",
        "\n",
        "siblings =siblings + (\"Murali\",\"prasanna\")\n",
        "family_members = siblings\n",
        "print(\"After adding father and mother name:\",family_members)"
      ],
      "metadata": {
        "colab": {
          "base_uri": "https://localhost:8080/"
        },
        "id": "0U090F9fyOF9",
        "outputId": "4f9fc26b-d0a1-4dd1-c320-6d25cdc5c411"
      },
      "execution_count": 21,
      "outputs": [
        {
          "output_type": "stream",
          "name": "stdout",
          "text": [
            "After joining both tuples: ('Harsha', 'Amith', 'Fardeen', 'likith', 'Phani', 'Kavya', 'Soujanya')\n",
            "No.of siblings : 7\n",
            "After adding father and mother name: ('Harsha', 'Amith', 'Fardeen', 'likith', 'Phani', 'Kavya', 'Soujanya', 'Murali', 'prasanna')\n"
          ]
        }
      ]
    },
    {
      "cell_type": "code",
      "source": [
        "#Q4\n",
        "\n",
        "it_companies ={\"Facebook\",\"Google\",\"Microsoft\",\"Apple\",\"IBM\",\"Oracle\",\"Amazon\"}\n",
        "A = {19, 22, 24, 20, 25, 26}\n",
        "B = {19, 22, 20, 25, 26, 24, 28, 27}\n",
        "age = [22, 19, 24, 25, 26, 24, 25, 24]\n",
        "\n",
        "#4.1 Lengths of the set it_companies\n",
        "\n",
        "length = len(it_companies)\n",
        "print(\"Length of it_companies list:\",length)\n",
        "print(\"it_companies;\", it_companies)\n",
        "#4.2 Add 'Twitter' to it_companies\n",
        "\n",
        "it_companies.add('Twitter')\n",
        "print(\"After adding Twitter:\",it_companies)\n",
        "\n",
        "#4.3 Insert multiple IT companies at once to the set it_companies\n",
        "companies=['Valenta','Infosys','KPIT']\n",
        "it_companies.update(companies)\n",
        "print(\"After adding multiple IT companies:\",it_companies)\n",
        "\n",
        "#4.4 Remove one of the the companies from the set it_companies\n",
        "it_companies.remove(\"Apple\")\n",
        "print(\"After deleting a company from list:\",it_companies)\n",
        "\n",
        "#4.5 Difference between remove and discard\n",
        "'''\n",
        "Remove is if we want to delete a value in the set that is not in the set, then it shows\n",
        "error.\n",
        "If we use discard instead of remove in the above case then it doesnot gives any error,\n",
        "it just keep the set undisturbed\n",
        "\n",
        "'''\n",
        "print(\"if we use discard\",it_companies.discard(\"Mphasis\"))\n",
        "\n",
        "#4.6 Join A and B\n",
        "C=B.union(A)\n",
        "print(\"after joining A and B: \",C)\n",
        "\n",
        "#4.7 Find A intersection B\n",
        "common=A.intersection(B)\n",
        "print(\"Intersection set:\",common)\n",
        "\n",
        "#4.8 Is A subset of B\n",
        "print(\"Is A subset of B:\",A.issubset(B))\n",
        "\n",
        "#4.9 Are A and B disjoint sets\n",
        "print(\"Are A and B disjoint sets:\",A.isdisjoint(B))\n",
        "\n",
        "#4.10 Join A with B and B with A\n",
        "print(\"Join A with B:\",A.union(B))\n",
        "print(\"Join B with A:\",B.union(A))\n",
        "\n",
        "#4.11 What is the symmetric difference between A and B\n",
        "print(\"The Symmetric differnce is:\",A.symmetric_difference(B))\n",
        "\n",
        "#4.12 Delete the sets completely\n",
        "del A\n",
        "del B\n",
        "\n",
        "#4.13 convert the ages to a set and compare the length of the list and the set.\n",
        "Set =set(age)\n",
        "print(\"Converted to set\",Set)\n",
        "print(\"Length of the list is:\",len(age),\",set is:\",len(Set))"
      ],
      "metadata": {
        "colab": {
          "base_uri": "https://localhost:8080/"
        },
        "id": "e9rapAP62hLH",
        "outputId": "68a27783-d500-4b38-a51d-b6361bfa9011"
      },
      "execution_count": 38,
      "outputs": [
        {
          "output_type": "stream",
          "name": "stdout",
          "text": [
            "Length of it_companies list: 7\n",
            "it_companies; {'Oracle', 'Facebook', 'IBM', 'Microsoft', 'Apple', 'Google', 'Amazon'}\n",
            "After adding Twitter: {'Oracle', 'Twitter', 'Facebook', 'IBM', 'Microsoft', 'Apple', 'Google', 'Amazon'}\n",
            "After adding multiple IT companies: {'Oracle', 'Infosys', 'Twitter', 'Facebook', 'IBM', 'Valenta', 'KPIT', 'Microsoft', 'Apple', 'Google', 'Amazon'}\n",
            "After deleting a company from list: {'Oracle', 'Infosys', 'Twitter', 'Facebook', 'IBM', 'Valenta', 'KPIT', 'Microsoft', 'Google', 'Amazon'}\n",
            "if we use discard None\n",
            "after joining A and B:  {19, 20, 22, 24, 25, 26, 27, 28}\n",
            "Intersection set: {19, 20, 22, 24, 25, 26}\n",
            "Is A subset of B: True\n",
            "Are A and B disjoint sets: False\n",
            "Join A with B: {19, 20, 22, 24, 25, 26, 27, 28}\n",
            "Join B with A: {19, 20, 22, 24, 25, 26, 27, 28}\n",
            "The Symmetric differnce is: {27, 28}\n",
            "Converted to set {19, 22, 24, 25, 26}\n",
            "Length of the list is: 8 ,set is: 5\n"
          ]
        }
      ]
    },
    {
      "cell_type": "code",
      "source": [
        "#Q5\n",
        "\n",
        "import math\n",
        "constant=math.pi\n",
        "radius = 30\n",
        "#5.1 Area of the circle\n",
        "_area_of_circle_= constant*(radius*radius)\n",
        "print(\"Area of the circle:\", _area_of_circle_)\n",
        "\n",
        "#5.2 Circumference\n",
        "_circum_of_circle_=2*constant*radius\n",
        "print(\"Circumference of the circle:\",_circum_of_circle_)\n",
        "\n",
        "#5.2.1 Assign a value to radius as a user input\n",
        "new_radius=float(input(\"Enter the value of radius:\"))\n",
        "Area_of_the_circle=constant*new_radius*new_radius\n",
        "print(\"Area of circle for given radius =\",new_radius,\"\\nArea=\",Area_of_the_circle)"
      ],
      "metadata": {
        "colab": {
          "base_uri": "https://localhost:8080/"
        },
        "id": "kflOAC0cDG2y",
        "outputId": "bf353c52-bfaf-4dbb-bf7f-f76ad4b983bd"
      },
      "execution_count": 44,
      "outputs": [
        {
          "output_type": "stream",
          "name": "stdout",
          "text": [
            "Area of the circle: 2827.4333882308138\n",
            "Circumference of the circle: 188.49555921538757\n",
            "Enter the value of radius:8\n",
            "Area of circle for given radius = 8.0 \n",
            "Area= 201.06192982974676\n"
          ]
        }
      ]
    },
    {
      "cell_type": "code",
      "source": [
        "#Q6\n",
        "Sentence=\"I am a teacher and I love to inspire and teach people\"\n",
        "\n",
        "#How many unique words have been used in the sentence\n",
        "\n",
        "Split=Sentence.split(\" \")\n",
        "sp_set = set(Split)\n",
        "print(\"Set:\",sp_set)\n",
        "print(\"No.of words in the sentence:\",len(sp_set))"
      ],
      "metadata": {
        "colab": {
          "base_uri": "https://localhost:8080/"
        },
        "id": "_I1-Y-7sF70T",
        "outputId": "55e4ec77-f17a-4658-9d03-9ddafdd33eb5"
      },
      "execution_count": 45,
      "outputs": [
        {
          "output_type": "stream",
          "name": "stdout",
          "text": [
            "Set: {'a', 'teacher', 'people', 'love', 'teach', 'inspire', 'I', 'to', 'and', 'am'}\n",
            "No.of words in the sentence: 10\n"
          ]
        }
      ]
    },
    {
      "cell_type": "code",
      "source": [
        "#Q7\n",
        "\n",
        "print(\"Name\\t\\tAge\\tcountry\\tcity\\nAsabeneh\\t250\\tFinland\\tHelsinki\")"
      ],
      "metadata": {
        "colab": {
          "base_uri": "https://localhost:8080/"
        },
        "id": "-Cd86SWxG0D2",
        "outputId": "4f22a9a1-04f0-401b-beb1-730fefc5fd41"
      },
      "execution_count": 48,
      "outputs": [
        {
          "output_type": "stream",
          "name": "stdout",
          "text": [
            "Name\t\tAge\tcountry\tcity\n",
            "Asabeneh\t250\tFinland\tHelsinki\n"
          ]
        }
      ]
    },
    {
      "cell_type": "code",
      "source": [
        "#Q8\n",
        "\n",
        "radius = 10\n",
        "area =int(3.14*radius**2)\n",
        "\n",
        "#string formating\n",
        "formatted_area = 'The area of circle with radius {} is {} meter square.'.format(radius, area)\n",
        "print(formatted_area)"
      ],
      "metadata": {
        "colab": {
          "base_uri": "https://localhost:8080/"
        },
        "id": "rD_UI6aiHb90",
        "outputId": "756dc8b6-adb9-40ac-83aa-4a13064c6574"
      },
      "execution_count": 49,
      "outputs": [
        {
          "output_type": "stream",
          "name": "stdout",
          "text": [
            "The area of circle with radius 10 is 314 meter square.\n"
          ]
        }
      ]
    },
    {
      "cell_type": "code",
      "source": [
        "#Q9\n",
        "\n",
        "#Dynamically taking the input\n",
        "n=int(input('Enter the NO.of values to be converted36'))\n",
        "\n",
        "#create two lists one for lbs and other for kgs\n",
        "list=[]\n",
        "con_list=[]\n",
        "for i in range(0,n,1):\n",
        "  p=float(input('Enter the value:'))\n",
        "  list.append(p)\n",
        "for i in range (0,n,1):\n",
        "  q=list[i]*0.453592\n",
        "  con_list.append(round(q,2))\n",
        "print(\"After Converting to kgs: \", con_list)"
      ],
      "metadata": {
        "colab": {
          "base_uri": "https://localhost:8080/"
        },
        "id": "QtJOK01UMqNp",
        "outputId": "8c21b77e-9bc8-4fa7-a2c4-5e5c97ddd781"
      },
      "execution_count": 52,
      "outputs": [
        {
          "output_type": "stream",
          "name": "stdout",
          "text": [
            "Enter the NO.of values to be converted5\n",
            "Enter the value:125\n",
            "Enter the value:800\n",
            "Enter the value:9\n",
            "Enter the value:859\n",
            "Enter the value:3654\n",
            "After Converting to kgs:  [56.7, 362.87, 4.08, 389.64, 1657.43]\n"
          ]
        }
      ]
    }
  ]
}